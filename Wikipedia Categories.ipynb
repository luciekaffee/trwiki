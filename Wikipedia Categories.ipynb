{
 "cells": [
  {
   "cell_type": "markdown",
   "metadata": {},
   "source": [
    "# Wikipedia Categories"
   ]
  },
  {
   "cell_type": "markdown",
   "metadata": {},
   "source": [
    "## Topic Modelling (LDA)"
   ]
  },
  {
   "cell_type": "markdown",
   "metadata": {},
   "source": [
    "Turkish Wikipedia dump from: https://www.kaggle.com/mustfkeskin/turkish-wikipedia-dump"
   ]
  },
  {
   "cell_type": "code",
   "execution_count": 25,
   "metadata": {
    "collapsed": true
   },
   "outputs": [],
   "source": [
    "import re\n",
    "import requests\n",
    "import os\n",
    "import random\n",
    "import codecs\n",
    "import cPickle\n",
    "import json\n",
    "from gensim.models.ldamodel import LdaModel as Lda\n",
    "from gensim import corpora\n",
    "from nltk.stem.wordnet import WordNetLemmatizer"
   ]
  },
  {
   "cell_type": "code",
   "execution_count": 26,
   "metadata": {
    "collapsed": true
   },
   "outputs": [],
   "source": [
    "# Preparation of documents\n",
    "\n",
    "trwikidumpfile = '../turkish-wikipedia-dump'\n",
    "\n",
    "docs = {}\n",
    "\n",
    "with open(trwikidumpfile) as trwikidump:\n",
    "    data = ''\n",
    "    title = \"\"\n",
    "    for line in trwikidump:\n",
    "        if '<doc' in line and 'title=' in line:\n",
    "            title = re.sub(r'\\<doc id\\=\\\".*\\\" url\\=\\\".*\\\" title=\\\"', '', line)\n",
    "            title = title.replace('\">', '')\n",
    "        elif '</doc>' in line:\n",
    "            docs[title.lower().strip()] = data\n",
    "            title = ''\n",
    "            data = ''\n",
    "        else:\n",
    "            data += line.decode('utf8') + '\\n'"
   ]
  },
  {
   "cell_type": "code",
   "execution_count": 4,
   "metadata": {
    "collapsed": true
   },
   "outputs": [],
   "source": [
    "# get Turkish stop words\n",
    "re = requests.get('https://raw.githubusercontent.com/ahmetax/trstop/master/dosyalar/turkce-stop-words')\n",
    "stopwords = re.text\n",
    "stopwords = re.text.split()"
   ]
  },
  {
   "cell_type": "code",
   "execution_count": 5,
   "metadata": {},
   "outputs": [
    {
     "data": {
      "text/plain": [
       "310290"
      ]
     },
     "execution_count": 5,
     "metadata": {},
     "output_type": "execute_result"
    }
   ],
   "source": [
    "len(docs.values())"
   ]
  },
  {
   "cell_type": "code",
   "execution_count": 6,
   "metadata": {},
   "outputs": [
    {
     "name": "stdout",
     "output_type": "stream",
     "text": [
      "1   0.019*\"arap\" + 0.011*\"mısır\" + 0.010*\"petrol\" + 0.009*\"bronz\" + 0.009*\"kış\" + 0.007*\"suudi\" + 0.007*\"isveç\" + 0.007*\"mardin\" + 0.006*\"dinî\" + 0.005*\"sezonunu\" \n",
      "\n",
      "2   0.057*\"yılında\" + 0.025*\"tarihinde\" + 0.015*\"ilk\" + 0.012*\"eylül\" + 0.012*\"2008\" + 0.012*\"haziran\" + 0.011*\"2007\" + 0.010*\"temmuz\" + 0.010*\"2013\" + 0.010*\"ekim\" \n",
      "\n",
      "3   0.050*\"yer\" + 0.044*\"alan\" + 0.038*\"nüfus\" + 0.033*\"şehrin\" + 0.032*\"tarihinde\" + 0.030*\"edilmiştir.\" + 0.028*\"tespit\" + 0.028*\"nüfusu\" + 0.028*\"amerika\" + 0.026*\"birleşik\" \n",
      "\n",
      "4   0.009*\"göl\" + 0.007*\"gölü\" + 0.007*\"marie\" + 0.006*\"formula\" + 0.006*\"metre\" + 0.006*\"arasında\" + 0.005*\"çanak\" + 0.005*\"normal\" + 0.005*\"taş\" + 0.005*\"baraj\" \n",
      "\n",
      "5   0.007*\"von\" + 0.006*\"sanatlar\" + 0.006*\"polat\" + 0.005*\"alman\" + 0.004*\"olmadığını\" + 0.004*\"üzerine\" + 0.004*\"güzel\" + 0.004*\"hakkında\" + 0.004*\"anlatır.\" + 0.004*\"kendisinin\" \n",
      "\n",
      "6   0.038*\"hava\" + 0.021*\"uzay\" + 0.017*\"dil\" + 0.013*\"uçak\" + 0.012*\"dili\" + 0.009*\"uçuş\" + 0.007*\"dünya'nın\" + 0.007*\"dilleri\" + 0.006*\"havacılık\" + 0.006*\"konuşulan\" \n",
      "\n",
      "7   0.018*\"listesi\" + 0.010*\"yüksek\" + 0.009*\"ekonomik\" + 0.008*\"nokia\" + 0.008*\"bankası\" + 0.007*\"ekonomi\" + 0.007*\"federal\" + 0.005*\"artış\" + 0.005*\"ürünler\" + 0.005*\"maliye\" \n",
      "\n",
      "8   0.017*\"roma\" + 0.014*\"kralı\" + 0.012*\"kral\" + 0.011*\"bizans\" + 0.009*\"oğlu\" + 0.009*\"ii.\" + 0.008*\"haçlı\" + 0.008*\"iii.\" + 0.008*\"pers\" + 0.008*\"imparator\" \n",
      "\n",
      "9   0.014*\"veri\" + 0.011*\"bilgisayar\" + 0.009*\"uygulama\" + 0.008*\"açık\" + 0.008*\"işletim\" + 0.007*\"apple\" + 0.006*\"güvenlik\" + 0.006*\"sistemi\" + 0.006*\"dijital\" + 0.006*\"kullanıcı\" \n",
      "\n",
      "10   0.009*\"farklı\" + 0.008*\"aynı\" + 0.008*\"temel\" + 0.006*\"genel\" + 0.005*\"ortaya\" + 0.005*\"arasındaki\" + 0.005*\"sahip\" + 0.005*\"zaman\" + 0.005*\"tek\" + 0.005*\"bilgi\" \n",
      "\n",
      "11   0.028*\"the\" + 0.017*\"ilk\" + 0.012*\"yer\" + 0.011*\"adlı\" + 0.010*\"\"the\" + 0.009*\"albüm\" + 0.009*\"şarkı\" + 0.009*\"müzik\" + 0.009*\"albümü\" + 0.007*\"and\" \n",
      "\n",
      "12   0.027*\"dünya\" + 0.024*\"avrupa\" + 0.016*\"spor\" + 0.014*\"basketbol\" + 0.012*\"sırada\" + 0.012*\"yaz\" + 0.010*\"yer\" + 0.010*\"madalya\" + 0.010*\"düzenlenen\" + 0.009*\"şampiyonası\" \n",
      "\n",
      "13   0.018*\"köy\" + 0.009*\"bulunmaktadır.\" + 0.008*\"tarım\" + 0.008*\"ilçe\" + 0.008*\"bağlı\" + 0.007*\"göç\" + 0.007*\"eski\" + 0.007*\"köyü\" + 0.007*\"vardır.\" + 0.006*\"adı\" \n",
      "\n",
      "14   0.014*\"büyük\" + 0.009*\"önemli\" + 0.008*\"ilk\" + 0.007*\"ortaya\" + 0.006*\"özellikle\" + 0.006*\"farklı\" + 0.006*\"aynı\" + 0.006*\"zaman\" + 0.005*\"dünya\" + 0.005*\"gelen\" \n",
      "\n",
      "15   0.016*\"dizinin\" + 0.011*\"olan,\" + 0.010*\"bağlı\" + 0.007*\"roman\" + 0.007*\"sahip,\" + 0.007*\"portekiz'de\" + 0.007*\"darth\" + 0.007*\"belediyesine\" + 0.007*\"nüfuslu\" + 0.006*\"hidrojen\" \n",
      "\n",
      "16   0.024*\"new\" + 0.012*\"york\" + 0.010*\"aile\" + 0.009*\"george\" + 0.005*\"pasifik\" + 0.005*\"dağılımı\" + 0.005*\"rolünü\" + 0.005*\"city\" + 0.005*\"kaliforniya\" + 0.005*\"rolüyle\" \n",
      "\n",
      "17   0.026*\"şarkı\" + 0.019*\"eurovision\" + 0.018*\"temsil\" + 0.016*\"yarı\" + 0.015*\"ulusal\" + 0.012*\"olmuştur.\" + 0.012*\"yarışması'nda\" + 0.010*\"2018\" + 0.010*\"tarihinde\" + 0.009*\"ikinci\" \n",
      "\n",
      "18   0.033*\"bulunan\" + 0.030*\"şehir\" + 0.030*\"nüfusu\" + 0.028*\"merkezi\" + 0.028*\"bağlı\" + 0.024*\"yılı\" + 0.019*\"şehrin\" + 0.015*\"km²\" + 0.013*\"azerbaycan\" + 0.013*\"şehri\" \n",
      "\n",
      "19   0.016*\"oyun\" + 0.009*\"the\" + 0.008*\"oyunun\" + 0.007*\"maçı\" + 0.007*\"karşı\" + 0.007*\"takım\" + 0.006*\"beşiktaş\" + 0.006*\"wwe\" + 0.006*\"oyunda\" + 0.005*\"oyunu\" \n",
      "\n",
      "20   0.031*\"osmanlı\" + 0.019*\"rus\" + 0.012*\"rusya\" + 0.010*\"ermeni\" + 0.006*\"arasında\" + 0.006*\"bulgar\" + 0.006*\"avusturya\" + 0.006*\"devlet\" + 0.005*\"yunan\" + 0.005*\"karşı\" \n",
      "\n",
      "21   0.014*\"yüksek\" + 0.009*\"enerji\" + 0.008*\"kullanılır.\" + 0.007*\"ışık\" + 0.007*\"genellikle\" + 0.006*\"düşük\" + 0.006*\"bulunan\" + 0.006*\"olur.\" + 0.006*\"elde\" + 0.005*\"yaklaşık\" \n",
      "\n",
      "22   0.014*\"devlet\" + 0.013*\"tarihinde\" + 0.010*\"başkanı\" + 0.009*\"birliği\" + 0.009*\"yılında\" + 0.007*\"siyasi\" + 0.007*\"parti\" + 0.007*\"cumhuriyeti\" + 0.006*\"partisi\" + 0.006*\"genel\" \n",
      "\n",
      "23   0.053*\"mahallenin\" + 0.039*\"yoktur.\" + 0.035*\"vardır.\" + 0.034*\"ilçesine\" + 0.030*\"sağlık\" + 0.029*\"şebekesi\" + 0.028*\"ptt\" + 0.026*\"mahallede\" + 0.019*\"bağlı\" + 0.017*\"mahalledir.\" \n",
      "\n",
      "24   0.020*\"büyük\" + 0.019*\"yer\" + 0.012*\"yılında\" + 0.011*\"bulunan\" + 0.009*\"doğu\" + 0.009*\"kuzey\" + 0.008*\"batı\" + 0.008*\"arasında\" + 0.007*\"güney\" + 0.007*\"alan\" \n",
      "\n",
      "25   0.053*\"ngc\" + 0.033*\"galaksidir.\" + 0.030*\"yılında\" + 0.029*\"yönünde\" + 0.029*\"yer\" + 0.028*\"alan\" + 0.028*\"yeni\" + 0.026*\"tip\" + 0.026*\"bulunur.\" + 0.025*\"takımyıldızı\" \n",
      "\n",
      "26   0.018*\"ilk\" + 0.009*\"adet\" + 0.008*\"üretilen\" + 0.008*\"kullanılan\" + 0.007*\"otomobil\" + 0.007*\"üretim\" + 0.007*\"güç\" + 0.006*\"motor\" + 0.006*\"yeni\" + 0.006*\"yüksek\" \n",
      "\n",
      "27   0.009*\"eder.\" + 0.009*\"zaman\" + 0.008*\"geri\" + 0.007*\"son\" + 0.006*\"başlar.\" + 0.006*\"birlikte\" + 0.006*\"gün\" + 0.005*\"başka\" + 0.005*\"karşı\" + 0.005*\"olur.\" \n",
      "\n",
      "28   0.053*\"arasında\" + 0.037*\"yılları\" + 0.018*\"görev\" + 0.017*\"yıllarında\" + 0.017*\"olmuştur.\" + 0.016*\"uluslararası\" + 0.014*\"fransız\" + 0.013*\"yapmıştır.\" + 0.012*\"ulusal\" + 0.012*\"genel\" \n",
      "\n",
      "29   0.014*\"yayın\" + 0.011*\"yahudi\" + 0.008*\"polis\" + 0.007*\"radyo\" + 0.007*\"ceza\" + 0.007*\"televizyon\" + 0.006*\"haber\" + 0.006*\"yapan\" + 0.006*\"israil\" + 0.006*\"karakterini\" \n",
      "\n",
      "30   0.035*\"türkiye\" + 0.029*\"genel\" + 0.023*\"dönem\" + 0.022*\"türk\" + 0.018*\"milletvekili\" + 0.016*\"çocuk\" + 0.014*\"(d.\" + 0.014*\"ankara\" + 0.014*\"yapmıştır.\" + 0.014*\"evli\" \n",
      "\n",
      "31   0.009*\"islam\" + 0.007*\"kabul\" + 0.007*\"hakkında\" + 0.006*\"dini\" + 0.006*\"din\" + 0.006*\"ilk\" + 0.006*\"sosyal\" + 0.005*\"kadın\" + 0.005*\"tarih\" + 0.005*\"dair\" \n",
      "\n",
      "32   0.021*\"ilk\" + 0.017*\"futbol\" + 0.013*\"sezonunda\" + 0.013*\"millî\" + 0.011*\"sezon\" + 0.011*\"oldu.\" + 0.011*\"takımı\" + 0.011*\"transfer\" + 0.010*\"gol\" + 0.010*\"lig\" \n",
      "\n",
      "33   0.009*\"(anlam\" + 0.009*\"ayrımı)\" + 0.009*\"cinsel\" + 0.007*\"carlo\" + 0.006*\"aşağıdaki\" + 0.006*\"arama\" + 0.005*\"zorunlu\" + 0.005*\"toplumun\" + 0.005*\"yahudilerin\" + 0.004*\"buhar\" \n",
      "\n",
      "34   0.015*\"eğitim\" + 0.013*\"yılında\" + 0.006*\"bulunmaktadır.\" + 0.006*\"kurulan\" + 0.006*\"bulunan\" + 0.006*\"faaliyet\" + 0.005*\"öğrenci\" + 0.005*\"kurulmuştur.\" + 0.005*\"özel\" + 0.005*\"bağlı\" \n",
      "\n",
      "35   0.011*\"savaş\" + 0.010*\"karşı\" + 0.008*\"savaşı\" + 0.008*\"ii.\" + 0.008*\"alman\" + 0.008*\"askeri\" + 0.008*\"ordusu\" + 0.007*\"paşa\" + 0.007*\"sırasında\" + 0.006*\"üzerine\" \n",
      "\n",
      "36   0.057*\"köyün\" + 0.037*\"align=\"center\"\" + 0.036*\"yoktur.\" + 0.026*\"ilçesine\" + 0.026*\"vardır.\" + 0.025*\"köyde\" + 0.024*\"sağlık\" + 0.024*\"şebekesi\" + 0.023*\"ptt\" + 0.016*\"bağlı\" \n",
      "\n",
      "37   0.054*\"(d.\" + 0.043*\"futbolcudur.\" + 0.028*\"yılında\" + 0.028*\"başladı.\" + 0.028*\"japon\" + 0.028*\"profesyonel\" + 0.026*\"kariyerine\" + 0.022*\"kulübünde\" + 0.019*\"eski\" + 0.018*\"oynadı.\" \n",
      "\n",
      "38   0.043*\"film\" + 0.017*\"filmin\" + 0.017*\"iyi\" + 0.017*\"yapımı\" + 0.016*\"(d.\" + 0.015*\"oyuncu\" + 0.014*\"filmi\" + 0.013*\"rol\" + 0.013*\"sinema\" + 0.010*\"filmde\" \n",
      "\n",
      "39   0.010*\"çizgi\" + 0.010*\"john\" + 0.007*\"thomas\" + 0.007*\"adı\" + 0.007*\"charles\" + 0.006*\"fransız\" + 0.006*\"akademi\" + 0.006*\"peter\" + 0.006*\"yazdığı\" + 0.006*\"yönettiği\" \n",
      "\n",
      "40   0.022*\"güney\" + 0.017*\"deniz\" + 0.015*\"alt\" + 0.013*\"kırmızı\" + 0.011*\"kara\" + 0.010*\"kuzey\" + 0.010*\"yeşil\" + 0.010*\"sarı\" + 0.010*\"küçük\" + 0.009*\"orta\" \n",
      "\n",
      "41   0.007*\"saat\" + 0.006*\"sahip\" + 0.005*\"üzerinde\" + 0.005*\"üzerine\" + 0.004*\"gaz\" + 0.004*\"içerisinde\" + 0.004*\"yavaş\" + 0.004*\"üst\" + 0.004*\"hareket\" + 0.004*\"hale\" \n",
      "\n",
      "42   0.014*\"windows\" + 0.014*\"internet\" + 0.011*\"yeni\" + 0.011*\"satın\" + 0.008*\"şirketi\" + 0.008*\"şirket\" + 0.007*\"büyük\" + 0.007*\"fazla\" + 0.007*\"para\" + 0.006*\"oyun\" \n",
      "\n",
      "43   0.019*\"beyaz\" + 0.010*\"siyah\" + 0.009*\"vardır.\" + 0.009*\"türü\" + 0.007*\"erkek\" + 0.007*\"uzun\" + 0.005*\"türleri\" + 0.005*\"vücut\" + 0.005*\"renk\" + 0.005*\"tek\" \n",
      "\n",
      "44   0.038*\"grup\" + 0.034*\"müzik\" + 0.021*\"grubun\" + 0.016*\"grubu\" + 0.010*\"müziği\" + 0.009*\"solo\" + 0.008*\"konser\" + 0.008*\"grup,\" + 0.008*\"rock\" + 0.007*\"gruba\" \n",
      "\n",
      "45   0.042*\"yılında\" + 0.015*\"üniversitesi\" + 0.011*\"adlı\" + 0.009*\"yaptı.\" + 0.009*\"(d.\" + 0.007*\"mezun\" + 0.007*\"sanat\" + 0.007*\"tiyatro\" + 0.006*\"ilk\" + 0.006*\"arasında\" \n",
      "\n",
      "46   0.020*\"ilk\" + 0.014*\"oldu.\" + 0.013*\"yıl\" + 0.011*\"etti.\" + 0.009*\"birlikte\" + 0.009*\"süre\" + 0.008*\"başladı.\" + 0.008*\"devam\" + 0.008*\"büyük\" + 0.008*\"yılında\" \n",
      "\n",
      "47   0.070*\"türk\" + 0.034*\"istanbul\" + 0.023*\"ali\" + 0.018*\"mustafa\" + 0.017*\"mehmet\" + 0.014*\"ahmet\" + 0.010*\"bey\" + 0.010*\"ibrahim\" + 0.009*\"istanbul'da\" + 0.009*\"kemal\" \n",
      "\n",
      "48   0.017*\"japonya'nın\" + 0.017*\"oyuncular\" + 0.015*\"itibarı\" + 0.015*\"diş\" + 0.013*\"oyuncusu.\" + 0.013*\"sakarya\" + 0.012*\"çanakkale\" + 0.011*\"köprü\" + 0.010*\"football\" + 0.010*\"aktris.\" \n",
      "\n",
      "49   0.021*\"van\" + 0.020*\"genel\" + 0.015*\"manyetik\" + 0.012*\"mimar\" + 0.011*\"seçimleri\" + 0.010*\"edward\" + 0.010*\"türkiye\" + 0.009*\"başkanlığı,\" + 0.009*\"almanya'da\" + 0.009*\"mimarlık\" \n",
      "\n",
      "50   0.014*\"çin\" + 0.013*\"yer\" + 0.010*\"uluslararası\" + 0.008*\"bulunan\" + 0.008*\"sayılı\" + 0.008*\"inşa\" + 0.006*\"almaktadır.\" + 0.006*\"metre\" + 0.005*\"hizmet\" + 0.005*\"avrupa\" \n",
      "\n"
     ]
    }
   ],
   "source": [
    "# Topic modelling based on \n",
    "# https://github.com/abhijeet3922/Topic-Modelling-on-Wiki-corpus/blob/master/wiki_topic_model.py\n",
    "\n",
    "# Function to remove stop words from sentences & lemmatize verbs. \n",
    "def clean(doc):\n",
    "    stop_free = \" \".join([i for i in doc.lower().split() if i not in stopwords])\n",
    "    normalized = \" \".join(lemma.lemmatize(word,'v') for word in stop_free.split())\n",
    "    x = normalized.split()\n",
    "    y = [s for s in x if len(s) > 2]\n",
    "    return y\n",
    "\n",
    "doc_complete = docs.values()\n",
    "\n",
    "# Randomly sample 70000 articles from the corpus     \n",
    "docs_all = random.sample(doc_complete, 70000)\n",
    "#docs = open(\"docs_wiki.pkl\",'wb')\n",
    "#cPickle.dump(docs_all,docs)\n",
    "\n",
    "# Use 60000 articles for training.\n",
    "docs_train = docs_all[:60000]\n",
    "\n",
    "\n",
    "# Cleaning all the 60,000 simplewiki articles\n",
    "lemma = WordNetLemmatizer()\n",
    "doc_clean = [clean(doc) for doc in docs_train]\n",
    "\n",
    "# Creating the term dictionary of our courpus, where every unique term is assigned an index. \n",
    "dictionary = corpora.Dictionary(doc_clean)\n",
    "\n",
    "# Filter the terms which have occured in less than 3 articles and more than 40% of the articles \n",
    "dictionary.filter_extremes(no_below=4, no_above=0.4)\n",
    "\n",
    "#words,ids = dictionary.filter_n_most_frequent(50)\n",
    "#print words,\"\\n\\n\",ids\n",
    "\n",
    "# Converting list of documents (corpus) into Document Term Matrix using dictionary prepared above.\n",
    "doc_term_matrix = [dictionary.doc2bow(doc) for doc in doc_clean]\n",
    "\n",
    "#Creating the object for LDA model using gensim library & Training LDA model on the document term matrix.\n",
    "ldamodel = Lda(doc_term_matrix, num_topics=50, id2word = dictionary, passes=50, iterations=500)\n",
    "ldafile = open('lda_model_sym_wiki.pkl','wb')\n",
    "cPickle.dump(ldamodel,ldafile)\n",
    "ldafile.close()\n",
    "\n"
   ]
  },
  {
   "cell_type": "code",
   "execution_count": 8,
   "metadata": {},
   "outputs": [
    {
     "data": {
      "text/plain": [
       "100000"
      ]
     },
     "execution_count": 8,
     "metadata": {},
     "output_type": "execute_result"
    }
   ],
   "source": [
    "len(dictionary)\n",
    "\n",
    "#Print all the 50 topics\n",
    "#for topic in ldamodel.print_topics(num_topics=50, num_words=10):\n",
    "#    print topic[0]+1, \" \", topic[1],\"\\n\""
   ]
  },
  {
   "cell_type": "code",
   "execution_count": 12,
   "metadata": {},
   "outputs": [
    {
     "name": "stdout",
     "output_type": "stream",
     "text": [
      "Title: rémy cabella\n",
      "\n",
      "31\n",
      "(u'ilk', 0.020509258)\n",
      "(u'futbol', 0.017338768)\n",
      "(u'sezonunda', 0.012901851)\n",
      "(u'mill\\xee', 0.01284077)\n",
      "(u'sezon', 0.011190816)\n",
      "(u'oldu.', 0.010767334)\n",
      "(u'tak\\u0131m\\u0131', 0.010697887)\n",
      "(u'transfer', 0.010609378)\n",
      "(u'gol', 0.010345067)\n",
      "(u'lig', 0.010126795)\n"
     ]
    }
   ],
   "source": [
    "x = ''\n",
    "for k,v in docs.iteritems():\n",
    "    x = k\n",
    "    break\n",
    "\n",
    "print 'Title: ' + x\n",
    "\n",
    "tokenized_document = docs[x].split()\n",
    "\n",
    "ques_vec = dictionary.doc2bow(tokenized_document)\n",
    "#topic_vec will contain the classified topic number (class) and the probability that the document belongs to that class\n",
    "topic_vec = ldamodel[ques_vec]\n",
    "\n",
    "topic_number = max(topic_vec,key=lambda item:item[1])[0]\n",
    "print topic_number\n",
    "\n",
    "words = ldamodel.show_topic(topic_number, topn = 10)\n",
    "for w in words:\n",
    "    print w"
   ]
  },
  {
   "cell_type": "code",
   "execution_count": 13,
   "metadata": {
    "collapsed": true
   },
   "outputs": [],
   "source": [
    "# get edits before and after block per article\n",
    "edits_articles_before = {}\n",
    "with open('edits-per-article-before.json') as infile:\n",
    "    edits_articles_before = json.load(infile)\n",
    "edits_articles_after = {}\n",
    "with open('edits-per-article-after.json') as infile:\n",
    "    edits_articles_after = json.load(infile)"
   ]
  },
  {
   "cell_type": "code",
   "execution_count": 27,
   "metadata": {},
   "outputs": [
    {
     "name": "stdout",
     "output_type": "stream",
     "text": [
      "armerde\n"
     ]
    }
   ],
   "source": [
    "# get all article titles we have data on\n",
    "article_titles_pre = set(edits_articles_after.keys() + edits_articles_before.keys())\n",
    "article_titles = set()\n",
    "for t in article_titles_pre:\n",
    "    article_titles.add(t.replace('_', ' ').strip())"
   ]
  },
  {
   "cell_type": "code",
   "execution_count": 32,
   "metadata": {
    "collapsed": true
   },
   "outputs": [],
   "source": [
    "before = {}\n",
    "after = {}\n",
    "for x in article_titles:\n",
    "    x = x.encode('utf-8')\n",
    "    if x not in docs:\n",
    "        counter += 1\n",
    "        continue\n",
    "    tokenized_document = docs[x].split()\n",
    "    ques_vec = dictionary.doc2bow(tokenized_document)\n",
    "    topic_vec = ldamodel[ques_vec]\n",
    "    topic_number = max(topic_vec,key=lambda item:item[1])[0]\n",
    "    \n",
    "    if x in edits_articles_before:\n",
    "        if topic_number in before:\n",
    "            before[topic_number] += 1\n",
    "        else:\n",
    "            before[topic_number] = 1\n",
    "    if x in edits_articles_after:\n",
    "        if topic_number in after:\n",
    "            after[topic_number] += 1\n",
    "        else:\n",
    "            after[topic_number] =1"
   ]
  },
  {
   "cell_type": "code",
   "execution_count": 38,
   "metadata": {},
   "outputs": [
    {
     "data": {
      "image/png": "[encoded data removed]",
      "text/plain": [
       "<matplotlib.figure.Figure at 0x15b5b2810>"
      ]
     },
     "metadata": {},
     "output_type": "display_data"
    }
   ],
   "source": [
    "import numpy as np\n",
    "import matplotlib.pyplot as plt\n",
    "\n",
    "plt.figure(figsize=(40,10))\n",
    "plt.bar(range(len(before)), list(before.values()), align='center')\n",
    "plt.xticks(range(len(before)), list(before.keys()))\n",
    "plt.show()"
   ]
  },
  {
   "cell_type": "code",
   "execution_count": 46,
   "metadata": {},
   "outputs": [
    {
     "data": {
      "image/png": "[encoded data removed]",
      "text/plain": [
       "<matplotlib.figure.Figure at 0x161cd34d0>"
      ]
     },
     "metadata": {},
     "output_type": "display_data"
    }
   ],
   "source": [
    "plt.figure(figsize=(40,10))\n",
    "plt.bar(range(len(after)), list(after.values()), align='center')\n",
    "plt.xticks(range(len(after)), list(after.keys()))\n",
    "plt.show()"
   ]
  },
  {
   "cell_type": "code",
   "execution_count": 62,
   "metadata": {},
   "outputs": [
    {
     "name": "stdout",
     "output_type": "stream",
     "text": [
      "50\n",
      "50\n"
     ]
    }
   ],
   "source": [
    "before_percentage = {}\n",
    "s = sum(before.values())\n",
    "for k, v in before.items():\n",
    "    pct = v * 100.0 / s\n",
    "    before_percentage[k] = pct\n",
    "\n",
    "after_percentage = {}\n",
    "s = sum(after.values())\n",
    "for k, v in after.items():\n",
    "    pct = v * 100.0 / s\n",
    "    after_percentage[k] = pct"
   ]
  },
  {
   "cell_type": "code",
   "execution_count": 67,
   "metadata": {},
   "outputs": [
    {
     "data": {
      "image/png": "[encoded data removed]",
      "text/plain": [
       "<matplotlib.figure.Figure at 0x16cf45490>"
      ]
     },
     "metadata": {},
     "output_type": "display_data"
    }
   ],
   "source": [
    "plt.rcParams[\"figure.figsize\"] = (40,10)\n",
    "X = np.arange(len(before_percentage))\n",
    "ax = plt.subplot(111)\n",
    "ax.bar(X, before_percentage.values(), width=0.1, color='b', align='center')\n",
    "ax.bar(X-0.1, after_percentage.values(), width=0.1, color='g', align='center')\n",
    "ax.legend(('Before','After'))\n",
    "plt.xticks(X, before_percentage.keys())\n",
    "plt.title(\"Edits, percentage over topics\", fontsize=17)\n",
    "plt.show()"
   ]
  },
  {
   "cell_type": "code",
   "execution_count": 75,
   "metadata": {},
   "outputs": [
    {
     "name": "stdout",
     "output_type": "stream",
     "text": [
      "topic 0\n",
      "arap\n",
      "mısır\n",
      "petrol\n",
      "bronz\n",
      "kış\n",
      "suudi\n",
      "isveç\n",
      "mardin\n",
      "dinî\n",
      "sezonunu\n",
      "topic 2\n",
      "yer\n",
      "alan\n",
      "nüfus\n",
      "şehrin\n",
      "tarihinde\n",
      "edilmiştir.\n",
      "tespit\n",
      "nüfusu\n",
      "amerika\n",
      "birleşik\n",
      "topic 17\n",
      "bulunan\n",
      "şehir\n",
      "nüfusu\n",
      "merkezi\n",
      "bağlı\n",
      "yılı\n",
      "şehrin\n",
      "km²\n",
      "azerbaycan\n",
      "şehri\n",
      "topic 23\n",
      "büyük\n",
      "yer\n",
      "yılında\n",
      "bulunan\n",
      "doğu\n",
      "kuzey\n",
      "batı\n",
      "arasında\n",
      "güney\n",
      "alan\n"
     ]
    }
   ],
   "source": [
    "def print_topic_words(topic_nr):\n",
    "    words = ldamodel.show_topic(topic_nr, topn = 10)\n",
    "    for w in words:\n",
    "        print w[0]\n",
    "\n",
    "print 'topic 0'\n",
    "print_topic_words(0)\n",
    "\n",
    "print 'topic 2'\n",
    "print_topic_words(2)\n",
    "\n",
    "print 'topic 17'\n",
    "print_topic_words(17)\n",
    "\n",
    "print 'topic 23'\n",
    "print_topic_words(23)"
   ]
  },
  {
   "cell_type": "code",
   "execution_count": 83,
   "metadata": {},
   "outputs": [
    {
     "name": "stdout",
     "output_type": "stream",
     "text": [
      "{0: {'P': 0.0, 'chisq': 2575.902586566664}, 1: {'P': 4.6074167323163338e-85, 'chisq': 381.98197299492205}, 2: {'P': 1.0733673247568078e-224, 'chisq': 1024.0314866037711}, 3: {'P': 7.9993728005060176e-88, 'chisq': 394.6616027628429}, 4: {'P': 3.1498006847454693e-84, 'chisq': 378.14749582215018}, 5: {'P': 1.3594628214022824e-103, 'chisq': 467.1159307882138}, 6: {'P': 5.6818310584548672e-84, 'chisq': 376.97072755966371}, 7: {'P': 1.3316180266219016e-87, 'chisq': 393.64493577172522}, 8: {'P': 2.2610866102352043e-87, 'chisq': 392.58870761046381}, 9: {'P': 2.2541547823183702e-99, 'chisq': 447.72609155364569}, 10: {'P': 5.6609777949602644e-85, 'chisq': 381.57118483290247}, 11: {'P': 8.2894563245606425e-85, 'chisq': 380.81039481687958}, 12: {'P': 3.2003930324152683e-84, 'chisq': 378.11571054460308}, 13: {'P': 2.4449303034117832e-84, 'chisq': 378.65281250445906}, 14: {'P': 2.7139766748379273e-95, 'chisq': 428.97671699063733}, 15: {'P': 1.7025452609042601e-84, 'chisq': 379.37470231729054}, 16: {'P': 8.560190745518861e-85, 'chisq': 380.74628612950102}, 17: {'P': 1.8119025628624185e-106, 'chisq': 480.32908831434526}, 18: {'P': 7.1619918905581686e-84, 'chisq': 376.50891776459753}, 19: {'P': 3.5261158798246813e-84, 'chisq': 377.9223726779901}, 20: {'P': 3.6102022024039082e-115, 'chisq': 520.3171969851885}, 21: {'P': 6.069415585870788e-84, 'chisq': 376.83909742799574}, 22: {'P': 1.9907844887423023e-114, 'chisq': 516.90904340094676}, 23: {'P': 3.970495465666683e-90, 'chisq': 405.24655141879663}, 24: {'P': 1.0279325924230045e-85, 'chisq': 384.97444512376393}, 25: {'P': 7.0622850067199569e-84, 'chisq': 376.53688285164264}, 26: {'P': 1.8975681447277521e-84, 'chisq': 379.15837214144904}, 27: {'P': 6.414647952876018e-84, 'chisq': 376.72874518003653}, 28: {'P': 6.0418590105572334e-84, 'chisq': 376.84817461384625}, 29: {'P': 3.343667887355849e-84, 'chisq': 378.0283509054172}, 30: {'P': 8.4547432064843288e-91, 'chisq': 408.33249887105131}, 31: {'P': 7.3212615828168398e-84, 'chisq': 376.4650446440811}, 32: {'P': 1.5607079751383783e-84, 'chisq': 379.54821702077527}, 33: {'P': 5.1101494096833309e-84, 'chisq': 377.18225933345593}, 34: {'P': 5.0823937443720024e-84, 'chisq': 377.1931232464774}, 35: {'P': 6.3773476341623859e-85, 'chisq': 381.3334934359583}, 36: {'P': 7.0339525564321026e-84, 'chisq': 376.54490139868165}, 37: {'P': 6.4530749899168027e-84, 'chisq': 376.71683135523045}, 38: {'P': 7.3298928535098149e-84, 'chisq': 376.46269437883029}, 39: {'P': 9.4874576338868907e-91, 'chisq': 408.10257325331713}, 40: {'P': 2.8935376621195277e-85, 'chisq': 382.90993409509974}, 41: {'P': 5.9440582043564803e-85, 'chisq': 381.47384770701035}, 42: {'P': 1.60449958081936e-89, 'chisq': 402.46040435358083}, 43: {'P': 7.024779592727064e-84, 'chisq': 376.54750442025431}, 44: {'P': 3.2005806409695646e-84, 'chisq': 378.11559361472189}, 45: {'P': 7.2289872459512066e-84, 'chisq': 376.4903452146205}, 46: {'P': 1.6792480465403207e-86, 'chisq': 388.58872543250556}, 47: {'P': 1.0251817557893092e-93, 'chisq': 421.73042387170136}, 48: {'P': 6.4545153418872888e-85, 'chisq': 381.30950071153688}, 49: {'P': 1.195465985978897e-84, 'chisq': 380.08003108824221}}\n"
     ]
    }
   ],
   "source": [
    "# Test statistic difference of the dicts\n",
    "\n",
    "from scipy.stats import chisquare\n",
    "def get_freqs_for_chisq(dict1, dict2):\n",
    "    for key in (set(dict1) & set(dict2)):\n",
    "        yield key\n",
    "        for d in [dict1, dict2]:\n",
    "            other_freq = sum([v for (k,v) in d.iteritems() if k != key])\n",
    "            freq = d[key]\n",
    "            yield np.array([freq, other_freq])\n",
    "\n",
    "iter = get_freqs_for_chisq(before, after)\n",
    "results = {}\n",
    "while True:\n",
    "    try:\n",
    "        word = iter.next()\n",
    "        results[word] = dict(zip(('chisq', 'P'),\n",
    "                                chisquare(iter.next(), f_exp=iter.next())))\n",
    "    except StopIteration:\n",
    "        break\n",
    "\n",
    "#print results\n",
    "for k, v in results.iteritems():\n",
    "    if v['P'] >= 0.05:\n",
    "        print k, v"
   ]
  },
  {
   "cell_type": "markdown",
   "metadata": {},
   "source": [
    "### Result Topics Example (First run)\n",
    "1   0.010*\"kız\" + 0.009*\"babası\" + 0.009*\"gün\" + 0.008*\"geri\" + 0.008*\"annesi\" + 0.008*\"son\" + 0.007*\"genç\" + 0.007*\"kızı\" + 0.007*\"oğlu\" + 0.007*\"birlikte\" \n",
    "\n",
    "2   0.012*\"akciğer\" + 0.008*\"yunan\" + 0.007*\"resim\" + 0.006*\"atina\" + 0.005*\"yunanistan\" + 0.005*\"scott\" + 0.004*\"kanser\" + 0.004*\"italya'ya\" + 0.004*\"jackson\" + 0.004*\"yunanistan'ın\" \n",
    "\n",
    "3   0.024*\"hava\" + 0.019*\"bağlı\" + 0.012*\"hüseyin\" + 0.012*\"olan,\" + 0.010*\"iran\" + 0.009*\"silahlı\" + 0.009*\"sahip,\" + 0.009*\"nüfuslu\" + 0.008*\"kuvvetleri\" + 0.008*\"cumhurbaşkanlığı\" \n",
    "\n",
    "4   0.021*\"bulunan\" + 0.017*\"han\" + 0.016*\"yüzölçümü\" + 0.016*\"yahudi\" + 0.014*\"(),\" + 0.014*\"itibarı\" + 0.012*\"tarihi\" + 0.010*\"güney\" + 0.010*\"havalimanı\" + 0.009*\"yılı\" \n",
    "\n",
    "5   0.027*\"ilk\" + 0.019*\"sezonunda\" + 0.019*\"gol\" + 0.019*\"sezon\" + 0.017*\"transfer\" + 0.016*\"maçta\" + 0.016*\"oldu.\" + 0.014*\"millî\" + 0.013*\"forma\" + 0.013*\"lig\" \n",
    "\n",
    "6   0.024*\"köy\" + 0.014*\"adı\" + 0.011*\"eski\" + 0.011*\"köyü\" + 0.011*\"göç\" + 0.010*\"ilçe\" + 0.009*\"bulunmaktadır.\" + 0.008*\"bağlı\" + 0.008*\"yerleşim\" + 0.008*\"tarım\" \n",
    "\n",
    "7   0.025*\"japon\" + 0.021*\"altın\" + 0.021*\"yaz\" + 0.019*\"madalya\" + 0.012*\"nba\" + 0.012*\"erkekler\" + 0.011*\"olimpiyat\" + 0.011*\"dünya\" + 0.011*\"gümüş\" + 0.011*\"olimpiyatları'nda\" \n",
    "\n",
    "8   0.019*\"yılında\" + 0.014*\"büyük\" + 0.009*\"üretim\" + 0.008*\"hizmet\" + 0.008*\"ilk\" + 0.008*\"sanayi\" + 0.008*\"şirket\" + 0.008*\"şirketi\" + 0.008*\"satın\" + 0.007*\"ticari\" \n",
    "\n",
    "9   0.027*\"yarı\" + 0.013*\"elektron\" + 0.009*\"tank\" + 0.009*\"eurovision\" + 0.009*\"adet\" + 0.009*\"ulusal\" + 0.008*\"top\" + 0.008*\"fotoğraf\" + 0.007*\"finalde\" + 0.007*\"balık\" \n",
    "\n",
    "10   0.082*\"align=\"center\"\" + 0.023*\"futbol\" + 0.023*\"colspan=\"4\"\" + 0.017*\"toplam\" + 0.013*\"ligi\" + 0.012*\"türkiye\" + 0.012*\"sayısı\" + 0.011*\"sonuçlar\" + 0.011*\"fifa\" + 0.010*\"uefa\" \n",
    "\n",
    "11   0.046*\"yılında\" + 0.023*\"arasında\" + 0.020*\"olmuştur.\" + 0.012*\"yılları\" + 0.012*\"yıllarında\" + 0.007*\"döneminde\" + 0.007*\"almıştır.\" + 0.007*\"anadolu\" + 0.005*\"bulunmuştur.\" + 0.005*\"etmiştir.\" \n",
    "\n",
    "12   0.066*\"the\" + 0.025*\"and\" + 0.010*\"for\" + 0.009*\"david\" + 0.009*\"listesi\" + 0.007*\"los\" + 0.007*\"michael\" + 0.006*\"city\" + 0.006*\"black\" + 0.005*\"\"the\" \n",
    "\n",
    "13   0.022*\"bilim\" + 0.012*\"üzerine\" + 0.009*\"bilimsel\" + 0.007*\"alanında\" + 0.007*\"fizik\" + 0.006*\"felsefe\" + 0.006*\"von\" + 0.005*\"hasan\" + 0.005*\"çalışmalar\" + 0.004*\"müdürlüğü,\" \n",
    "\n",
    "14   0.009*\"büyük\" + 0.008*\"ortaya\" + 0.008*\"zaman\" + 0.007*\"gelen\" + 0.006*\"aynı\" + 0.006*\"sadece\" + 0.006*\"önemli\" + 0.006*\"özellikle\" + 0.005*\"başka\" + 0.005*\"farklı\" \n",
    "\n",
    "15   0.033*\"yılında\" + 0.032*\"tarihinde\" + 0.015*\"ilk\" + 0.011*\"mayıs\" + 0.011*\"olmuştur.\" + 0.010*\"2012\" + 0.009*\"dünya\" + 0.009*\"2014\" + 0.009*\"2013\" + 0.009*\"2008\" \n",
    "\n",
    "16   0.018*\"enerji\" + 0.012*\"yüksek\" + 0.010*\"elektrik\" + 0.009*\"güneş\" + 0.009*\"nükleer\" + 0.008*\"kimyasal\" + 0.007*\"madde\" + 0.007*\"kullanılır.\" + 0.007*\"hücre\" + 0.006*\"meydana\" \n",
    "\n",
    "17   0.011*\"küçük\" + 0.010*\"kara\" + 0.010*\"beyaz\" + 0.009*\"deniz\" + 0.009*\"güney\" + 0.008*\"bulunur.\" + 0.008*\"alt\" + 0.007*\"türü\" + 0.007*\"bitki\" + 0.007*\"kuzey\" \n",
    "\n",
    "18   0.045*\"film\" + 0.027*\"filmin\" + 0.023*\"yapımı\" + 0.022*\"sinema\" + 0.017*\"rol\" + 0.016*\"tiyatro\" + 0.016*\"filmi\" + 0.015*\"televizyon\" + 0.015*\"filmde\" + 0.014*\"oyuncu\" \n",
    "\n",
    "19   0.061*\"(d.\" + 0.037*\"futbolcudur.\" + 0.029*\"yılında\" + 0.029*\"profesyonel\" + 0.025*\"görev\" + 0.024*\"başladı.\" + 0.023*\"eski\" + 0.021*\"millî\" + 0.020*\"kariyerine\" + 0.016*\"oynadı.\" \n",
    "\n",
    "20   0.008*\"inşa\" + 0.008*\"ilk\" + 0.007*\"adet\" + 0.006*\"istanbul\" + 0.006*\"türkiye'nin\" + 0.006*\"bulunmaktadır.\" + 0.005*\"önemli\" + 0.005*\"yıllarda\" + 0.004*\"bulunan\" + 0.004*\"edilen\" \n",
    "\n",
    "21   0.029*\"osmanlı\" + 0.014*\"ii.\" + 0.012*\"bizans\" + 0.012*\"oğlu\" + 0.010*\"büyük\" + 0.009*\"üzerine\" + 0.008*\"islam\" + 0.007*\"muhammed\" + 0.007*\"tahta\" + 0.007*\"idi.\" \n",
    "\n",
    "22   0.021*\"genel\" + 0.021*\"türk\" + 0.017*\"görev\" + 0.015*\"(d.\" + 0.014*\"devlet\" + 0.014*\"ankara\" + 0.013*\"dönem\" + 0.013*\"istanbul\" + 0.012*\"yapmıştır.\" + 0.012*\"arasında\" \n",
    "\n",
    "23   0.022*\"genel\" + 0.011*\"seçimleri\" + 0.011*\"türkiye\" + 0.008*\"motor\" + 0.008*\"sonuçlandı.\" + 0.007*\"wwe\" + 0.007*\"euro\" + 0.006*\"zamanlı\" + 0.005*\"anahtar\" + 0.005*\"haftada\" \n",
    "\n",
    "24   0.030*\"müzik\" + 0.021*\"şarkı\" + 0.021*\"ilk\" + 0.015*\"albümü\" + 0.014*\"albüm\" + 0.013*\"grup\" + 0.012*\"adlı\" + 0.011*\"yer\" + 0.010*\"grubun\" + 0.010*\"albümün\" \n",
    "\n",
    "25   0.009*\"israil\" + 0.006*\"atom\" + 0.006*\"optik\" + 0.005*\"hakkında\" + 0.004*\"cup\" + 0.004*\"yük\" + 0.004*\"sonuç\" + 0.004*\"iddia\" + 0.004*\"parçacık\" + 0.004*\"dini\" \n",
    "\n",
    "26   0.044*\"yılında\" + 0.025*\"oldu.\" + 0.020*\"aldı.\" + 0.015*\"başladı.\" + 0.015*\"yaptı.\" + 0.014*\"(d.\" + 0.014*\"adlı\" + 0.013*\"etti.\" + 0.012*\"ilk\" + 0.011*\"yıl\" \n",
    "\n",
    "27   0.024*\"ilk\" + 0.019*\"dünya\" + 0.017*\"ikinci\" + 0.015*\"kazandı.\" + 0.014*\"oldu.\" + 0.013*\"takım\" + 0.010*\"son\" + 0.010*\"grand\" + 0.009*\"finalde\" + 0.009*\"maçı\" \n",
    "\n",
    "28   0.018*\"anlamlara\" + 0.015*\"gelebilir:\" + 0.013*\"del\" + 0.011*\"san\" + 0.011*\"(anlam\" + 0.011*\"ayrımı)\" + 0.009*\"aşağıdaki\" + 0.006*\"topu\" + 0.006*\"kızılderili\" + 0.005*\"antonio\" \n",
    "\n",
    "29   0.015*\"kadın\" + 0.006*\"toplumsal\" + 0.006*\"roman\" + 0.005*\"kadınların\" + 0.005*\"sosyal\" + 0.005*\"kitabın\" + 0.004*\"kadınlar\" + 0.004*\"düşünce\" + 0.004*\"insan\" + 0.004*\"insanların\" \n",
    "\n",
    "30   0.032*\"iyi\" + 0.017*\"\"the\" + 0.016*\"film\" + 0.015*\"ödülü\" + 0.012*\"yer\" + 0.010*\"john\" + 0.010*\"stüdyo\" + 0.008*\"amerikan\" + 0.008*\"ödül\" + 0.008*\"listesinde\" \n",
    "\n",
    "31   0.019*\"siyah\" + 0.014*\"kırmızı\" + 0.013*\"mavi\" + 0.013*\"renkli\" + 0.011*\"sarı\" + 0.011*\"koyu\" + 0.010*\"yeşil\" + 0.009*\"familyasından\" + 0.009*\"renk\" + 0.008*\"lee\" \n",
    "\n",
    "32   0.073*\"birleşik\" + 0.051*\"amerika\" + 0.028*\"abd\" + 0.018*\"amerikan\" + 0.014*\"ilçenin\" + 0.012*\"merkezi\" + 0.011*\"krallık\" + 0.011*\"itibarıyla\" + 0.010*\"abd'nin\" + 0.010*\"yılı\" \n",
    "\n",
    "33   0.015*\"savaş\" + 0.013*\"karşı\" + 0.012*\"savaşı\" + 0.010*\"askeri\" + 0.009*\"alman\" + 0.009*\"sırasında\" + 0.009*\"yılında\" + 0.009*\"ordusu\" + 0.008*\"ii.\" + 0.008*\"ele\" \n",
    "\n",
    "34   0.012*\"oyun\" + 0.012*\"yeni\" + 0.012*\"windows\" + 0.010*\"ilk\" + 0.008*\"web\" + 0.008*\"bilgisayar\" + 0.007*\"oyunun\" + 0.006*\"video\" + 0.006*\"veri\" + 0.006*\"piyasaya\" \n",
    "\n",
    "35   0.016*\"ilk\" + 0.016*\"adlı\" + 0.007*\"aynı\" + 0.007*\"yazar\" + 0.006*\"hakkında\" + 0.006*\"kitap\" + 0.006*\"yazdığı\" + 0.005*\"kitabı\" + 0.004*\"eseri\" + 0.004*\"konu\" \n",
    "\n",
    "36   0.034*\"yoktur.\" + 0.031*\"köyün\" + 0.028*\"vardır.\" + 0.028*\"ilçesine\" + 0.025*\"sağlık\" + 0.024*\"şebekesi\" + 0.023*\"ptt\" + 0.022*\"mahallenin\" + 0.016*\"bağlı\" + 0.015*\"ilinin\" \n",
    "\n",
    "37   0.029*\"yer\" + 0.021*\"bulunan\" + 0.016*\"büyük\" + 0.013*\"şehir\" + 0.012*\"alan\" + 0.009*\"bağlı\" + 0.009*\"bulunmaktadır.\" + 0.009*\"kuzey\" + 0.009*\"merkezi\" + 0.009*\"almaktadır.\" \n",
    "\n",
    "38   0.018*\"avrupa\" + 0.015*\"doğu\" + 0.014*\"batı\" + 0.012*\"arasında\" + 0.009*\"barış\" + 0.009*\"ülke\" + 0.008*\"büyük\" + 0.008*\"fransa\" + 0.007*\"hollanda\" + 0.007*\"almanya\" \n",
    "\n",
    "39   0.011*\"mısır\" + 0.010*\"sivas\" + 0.009*\"bulunan\" + 0.008*\"suriye\" + 0.007*\"selçuklu\" + 0.007*\"gayet\" + 0.007*\"hacı\" + 0.006*\"şeyh\" + 0.006*\"ağa\" + 0.006*\"saray\" \n",
    "\n",
    "40   0.021*\"new\" + 0.014*\"york\" + 0.011*\"söyler.\" + 0.008*\"eder.\" + 0.007*\"cinsel\" + 0.007*\"oyunculuk\" + 0.006*\"eve\" + 0.005*\"seyahat\" + 0.005*\"canlandırdığı\" + 0.005*\"vize\" \n",
    "\n",
    "41   0.008*\"internet\" + 0.007*\"bilgi\" + 0.007*\"temel\" + 0.006*\"sistemi\" + 0.005*\"açık\" + 0.005*\"yeni\" + 0.005*\"sistem\" + 0.005*\"para\" + 0.004*\"kontrol\" + 0.004*\"özel\" \n",
    "\n",
    "42   0.014*\"uzay\" + 0.008*\"güneş\" + 0.008*\"dalga\" + 0.007*\"aynı\" + 0.007*\"zaman\" + 0.006*\"ifade\" + 0.006*\"yıldız\" + 0.006*\"alan\" + 0.005*\"temel\" + 0.005*\"manyetik\" \n",
    "\n",
    "43   0.014*\"ilk\" + 0.011*\"büyük\" + 0.009*\"yılında\" + 0.008*\"fransız\" + 0.008*\"yeni\" + 0.006*\"yıl\" + 0.006*\"dünya\" + 0.005*\"arasında\" + 0.005*\"ingiliz\" + 0.005*\"önemli\" \n",
    "\n",
    "44   0.029*\"yılında\" + 0.024*\"eğitim\" + 0.023*\"üniversitesi\" + 0.013*\"uluslararası\" + 0.012*\"türk\" + 0.010*\"yüksek\" + 0.009*\"istanbul\" + 0.008*\"öğretim\" + 0.008*\"kültür\" + 0.007*\"türkiye\" \n",
    "\n",
    "45   0.021*\"çin\" + 0.012*\"kan\" + 0.007*\"tıbbi\" + 0.007*\"sinir\" + 0.006*\"çin'in\" + 0.006*\"kalın\" + 0.005*\"insan\" + 0.005*\"hindistan\" + 0.005*\"hint\" + 0.005*\"besin\" \n",
    "\n",
    "46   0.052*\"şehrin\" + 0.045*\"yer\" + 0.042*\"alan\" + 0.040*\"nüfus\" + 0.036*\"nüfusu\" + 0.033*\"tarihinde\" + 0.029*\"edilmiştir.\" + 0.027*\"tespit\" + 0.025*\"amerikan,\" + 0.025*\"şehirdir.\" \n",
    "\n",
    "47   0.046*\"türk\" + 0.033*\"ali\" + 0.027*\"paşa\" + 0.023*\"mustafa\" + 0.020*\"mehmet\" + 0.016*\"ahmet\" + 0.014*\"bey\" + 0.013*\"sultan\" + 0.013*\"kemal\" + 0.012*\"ibrahim\" \n",
    "\n",
    "48   0.009*\"yüksek\" + 0.008*\"kullanılan\" + 0.007*\"genellikle\" + 0.007*\"farklı\" + 0.006*\"sahip\" + 0.006*\"yaklaşık\" + 0.006*\"küçük\" + 0.006*\"ışık\" + 0.005*\"bulunan\" + 0.005*\"aynı\" \n",
    "\n",
    "49   0.013*\"yılı\" + 0.013*\"kişi\" + 0.011*\"2006\" + 0.010*\"resmi\" + 0.010*\"dil\" + 0.009*\"yönetim\" + 0.008*\"iran'ın\" + 0.008*\"bulgar\" + 0.008*\"merkezi\" + 0.008*\"posta\" \n",
    "\n",
    "50   0.008*\"karşı\" + 0.005*\"yeni\" + 0.005*\"devlet\" + 0.005*\"birliği\" + 0.005*\"siyasi\" + 0.005*\"sovyet\" + 0.004*\"etti.\" + 0.004*\"kabul\" + 0.004*\"ardından\" + 0.004*\"sovyetler\"\n",
    "\n",
    "### Translation of result (Google translate)\n",
    "\n",
    "0 \"daughter\" +0.009 * \"father\" + 0.009 * \"day\" + 0.008 * \"back\" + 0.008 * \"mother\" + 0.008 * \"last\" + 0.007 * \"young\" + 0.007 * \"daughter\" + 0.007 * \"son\" + 0.007 * \"together\"\n",
    "\n",
    "2 0.012 * \"lung\" + 0.008 * \"greek\" + 0.007 * \"picture\" + 0.006 * \"Athina\" + 0.005 * \"greece\" + 0.005 * \"scott\" + 0.004 * \"cancer\" + 0.004 * \"to Italy\" + 0.004 * \"jackson\" + 0.004 * \"of greece's\"\n",
    "\n",
    "3 \"0.020\" + 0.019 * \"h.\" + \"0.012\" \",\" + 0.010 * \"with\" + \"+ 0.009 + 0.008 * \"forces\" + 0.008 * \"presidency\"\n",
    "\n",
    "4 0.017 * \"located\" + 0.016 * \"area\" + 0.016 * \"area\" + 0.016 * \"Jewish\" + 0.014 * \"(),\" + 0.014 * \"\" \"0.010 *\" + 0.010 * \"airport\" + 0.009 * \"year\"\n",
    "\n",
    "5 0.019 * \"in the season\" + 0.019 * \"goal\" + 0.019 * \"season\" + 0.017 * \"transfer\" + 0.016 * \"match\" + 0.016 * \"was. + 0.014 * \"national\" + 0.013 * \"uniform\" + 0.013 * \"league\"\n",
    "\n",
    "6 0.024 * \"village\" + 0.014 * \"name\" + 0.011 * \"old\" + 0.011 * \"village\" + 0.011 * \"migration\" + 0.010 * \"district\" + 0.009 * \"are located.\" + 0.008 * \"bound\" + 0.008 * \"settlement\" + 0.008 * \"agriculture\"\n",
    "\n",
    "7 0.021 * \"gold\" + 0.021 * \"summer\" + 0.019 * \"medal\" + 0.012 * \"nba\" + 0.012 * \"men\" + 0.011 * \"world\" + 0.011 * * \"Silver\" + 0.011 * \"Olympics\"\n",
    "\n",
    "8 0.019 * \"in\" + 0.014 * \"large\" + 0.009 * \"production\" + 0.008 * \"service\" + 0.008 * \"initial\" + 0.008 * \"industry\" + 0.008 * \"company\" + 0.008 * \"company\" + 0.008 * \"Buy\" + 0.007 * \"commercial\"\n",
    "\n",
    "+0.09 * \"electron\" + 0.009 * \"tank\" + 0.009 * \"eurovision\" + 0.009 * \"pcs\" + 0.009 * \"national\" + 0.008 * \"ball\" + 0.008 * \"photo\" + 0.007 * \"final\" + 0.007 * \"fish\"\n",
    "\n",
    "10 0082 * \"align =\" center \"\" + 0.023 * \"football\" + 0.023 * \"colspan =\" 4 \"\" + 0.017 * \"total\" + 0.013 * \"league\" + 0.012 * \"turkey\" + 0.012 * \"count\" + 0.011 * \"results\" + 0.011 * \"fifa\" + 0.010 * \"uefa\"\n",
    "\n",
    "11 in 0.046 * \"+ 0.022\" \"was\" + 0.020 * \". + 0.012 * \"years\" + 0.012 * \"+ 0.007 *\" in the period \"+ 0.007 *\" has received. \" + 0.007 * \"anadolu\" + 0.005 * \"found.\" + 0.005 * \"has.\"\n",
    "\n",
    "12 0.025 * \"and\" + 0.010 * \"for\" + 0.009 * \"david\" + 0.009 * \"list\" + 0.007 * \"los\" + 0.007 * \"michael\" + 0.006 * \"city\" + 0.006 * \"black\" + 0.005 * \"\" the \"\n",
    "\n",
    "13 0.022 * \"science\" + 0.012 * \"+ 0.009 *\" in the area of ​​\"scientific\" + 0.007 * \"+ 0.007 *\" physics \"+ 0.006 *\" philosophy \"+ 0.006 *\" von \"+ 0.005 *\" hasan \"+ 0.005 * \"studies\" + 0.004 * \"directorate,\"\n",
    "\n",
    "14 0.009 * \"large\" + 0.008 * \"emerged\" + 0.008 * \"time\" + 0.007 * \"incoming\" + 0.006 * \"same\" + 0.006 * \"only\" + 0.006 * \"significant\" + 0.006 * \"in particular\" + 0.005 * \"other\" + 0.005 * \"different\"\n",
    "\n",
    "15 0.032 * \"on\" + 0.015 * \"on\" + 0.015 * \"to\" + 0.011 * \"may\" + 0.011 * \" + 0.010 * \"2012\" + 0.009 * \"world\" + 0.009 * \"2014\" + 0.009 * \"2013\" + 0.009 * \"2008\"\n",
    "\n",
    "16 0.018 * \"energy\" + 0.010 * \"high\" + 0.010 * \"electrical\" + 0.009 * \"solar\" + 0.009 * \"nuclear\" + 0.008 * \"chemical\" + 0.007 * \"substance\" + 0.007 * \"is used.\" + 0.007 * \"cell\" + 0.006 * \"occurring\"\n",
    "\n",
    "17 0.011 * \"small\" + 0.010 * \"black\" + 0.010 * \"white\" + 0.009 * \"sea\" + 0.009 * \"south\" + 0.008 * \"located.\" + 0.008 * \"bottom\" + 0.007 * \"type\" + 0.007 * \"plant\" + 0.007 * \"north\"\n",
    "\n",
    "18 0.022 * \"theater\" + 0.016 * \"theater\" + 0.016 * \"theater\" + 0.016 * \"theater\" + 0.016 * \"movie\" + 0.011 * \"In the movie\" + 0.014 * \"Player\"\n",
    "\n",
    "19 0.061 * \"(d.\" + 0.037 * \"is the footballer.\" + 0.029 * \"in the year\" + 0.029 * \"Professional\" + 0.025 * \"Quest\" + 0.024 * \"Started.\" + 0.023 * \"Old\" + 0.021 * \" national \"+ 0.020 *\" to his career \"+ 0.016 *\" played. \"\n",
    "\n",
    "20, 0008 * \"build\" + 0.008 * \"first\" + 0.007 * \"Total\" + 0.006 * \"Istanbul\" + 0.006 * \"Turkey's\" + 0.006 * \"are available.\" + 0.005 * \"significant\" + 0.005 * \"\" + 0.004 * \"found\" + 0.004 * \"in the\"\n",
    "\n",
    "21 0.029 * \"ottoman\" + 0.014 * \"ii.\" + 0.012 * \"Byzantine\" + 0.012 * \"son of\" + 0.010 * \"large\" + 0.009 * \"on + 0.008 *\" Islam \"+ 0.007 *\" Muhammad \"+ 0.007 *\" board \"+ 0.007 *\". \"\n",
    "\n",
    "22 0.021 * \"turkish\" + 0.017 * \"duty\" + 0.015 * \"(d.\" + 0.014 * \"state\" + 0.014 * \"ankara\" + 0.013 * \"period\" + 0.013 * \"istanbul\") + 0.012 * \"between.\" + 0.012 * \"between\"\n",
    "\n",
    "23, 0022 * \"general\" + 0.011 * \"elections\" + 0.011 * \"turkey\" + 0.008 * \"engine\" + 0.008 * \"resulted.\" + 0.007 * \"wwe\" + 0.007 * \"euro\" + 0.006 * \"timed\" + 0.005 * \"key\" + 0.005 * \"per week\"\n",
    "\n",
    " 340.20 * \"music\" + 0.021 * \"song\" + 0.021 * \"first\" + 0.015 * \"album\" + 0.014 * \"album\" + 0.013 * \"group\" + 0.012 * \"named\" + 0.011 * \"place\" + 0.010 * \"of the band\" + 0.010 * \"album's\"\n",
    "\n",
    "25 0.004 * \"atom\" + 0.006 * \"optical\" + 0.005 * \"about\" + 0.004 * \"cup\" + 0.004 * \"load\" + 0.004 * \"result\" + 0.004 * \"claim\" + 0.004 * \"particle\" + 0.004 * \"religious\"\n",
    "\n",
    "26 0.044 * \"in\" + 0.025 * \".\" + 0.020 * \"received.\" + 0.015 * \"started.\" + 0.015 * \"did.\" + 0.014 * \"(d.\" + 0.014 * \"named\" + 0.013 * \".\" + 0.012 * \"first\" + 0.011 * \"year\"\n",
    "\n",
    "27 \"First\" + 0.019 * \"world\" + 0.017 * \"second\" + 0.015 * \"won.\" + 0.014 * \"was.\" + 0.013 * \"team\" + 0.010 * \"last\" + 0.010 * \"grand\" + 0.009 * \"in the final\" + 0.009 * \"match\"\n",
    "\n",
    "28 0.018 * \"meanings\" + 0.015 * \"may come:\" + 0.013 * \"del\" + 0.011 * \"san\" + 0.011 * \"(meaning\" + 0.011 * \"separation)\" + 0.009 * \"the following\" + 0.006 * \"ball + 0.006 * \"indian\" + 0.005 * \"antonio\"\n",
    "\n",
    "29 0.005 * \"women\" + 0.005 * \"social\" + 0.005 * \"social\" + 0.005 * \"social\" + 0.005 * \"social\" + 0.005 * \"women\" + 0.005 * \"social\" + 0.005 * \"book\" + 0.004 * \"women\" + 0.004 * \"thought\" + 0.004 * \"human\" + 0.004 * \"people\"\n",
    "\n",
    "30 0.010 * \"film\" + 0.015 * \"award\" + 0.010 * \"place\" + 0.010 * \"john\" + 0.010 * \"studio\" + 0.001 * \"american\" + 0.008 * \"reward\" + 0.008 * \"in the list\"\n",
    "\n",
    "31 \"Black\" + 0.014 * \"red\" + 0.013 * \"blue\" + 0.013 * \"color\" + 0.011 * \"yellow\" + 0.011 * \"dark\" + 0.010 * \"green\" + 0.009 * \"from the family\" + 0.009 * \"color\" + 0.008 * \"lee\"\n",
    "\n",
    "32 0.018 * \"united\" + 0.051 * \"America\" ​​+ 0.028 * \"US\" + 0.014 * \"As the town\" + 0.012 * \"Center\" + 0.011 * \"Kingdom\" + 0.011 * as of \"+ 0.010 * \"US $\" + 0.010 * \"year\"\n",
    "\n",
    "33 0.013 * \"war\" + 0.010 * \"war\" + 0.010 * \"military\" + 0.009 * \"German\" + 0.009 * \"during\" + 0.009 * \"in\" + 0.009 * \"army\" + 0.008 * \"i.\" + 0.008 * \"handled\"\n",
    "\n",
    "34 0.012 * \"New\" + 0.012 * \"Windows\" + 0.010 * \"First\" + 0.008 * \"Web\" + 0.008 * \"Computer\" + 0.007 * \"Game\" + 0.006 * \"Video\" + 0.006 * \"data\" + 0.006 * \"released\"\n",
    "\n",
    "35 0.016 * \"first\" + 0.016 * \"\" + 0.007 * \"writes\" + 0.006 * \"author\" + 0.006 * \"about\" + 0.006 * \"book\" + 0.006 * \"wrote\" + 0.005 * \"book\" + 0.004 * \"work\" + 0.004 * \"subject\"\n",
    "\n",
    "36 0.034 * \"no.\" + 0.031 * \"village\" has + 0.028 * \". + 0.028 * \"district\" + 0.025 * \"health\" + 0.023 * \"network\" + 0.022 * \"ptt\" + 0.022 * \"neighborhood\" + 0.016 * \"connected\" + 0.015 * \"of the province\"\n",
    "\n",
    "37 0.029 * \"place\" + 0.021 * \"located\" + 0.016 * \"large\" + 0.013 * \"city\" + 0.012 * \"area\" + 0.009 * \"connected\" + 0.009 * \"is located.\" + 0.009 * \"north\" + 0.009 * \"center\" + 0.009 * \"takes.\"\n",
    "\n",
    "38 0.018 * \"Europe\" + 0.015 * \"East\" + 0.014 * \"Western\" + 0.012 * \"between\" + 0.009 * \"Peace\" + 0.009 * \"Country\" + 0.008 * \"Large\" + 0.008 * \"France\" + 0.007 * \"Netherlands\" + 0.007 * \"Germany\"\n",
    "\n",
    "39 0.011 * \"maize\" + 0.010 * \"sivas\" + 0.009 * \"found\" + 0.008 * \"Syrian\" + 0.007 * \"selcuklu\" + 0.007 * \"fine\" + 0.007 * \"pilgrimage\" + 0.006 * \"sheikh\" + 0.006 * \"network\" + 0.006 * \"palace\"\n",
    "\n",
    "40 0.021 * \"new\" + 0.014 * \"york\" + 0.011 * \"tells.\" + 0.008 * \".\" + 0.007 * \"sexual\" + 0.007 * \"acting\" + 0.005 * \"home\" + 0.005 * \"travel\" + 0.005 * \"animated\" + 0.005 * \"visa\"\n",
    "\n",
    "41 0.008 * \"information\" + 0.007 * \"basic\" + 0.006 * \"system\" + 0.005 * \"open\" + 0.005 * \"new\" + 0.005 * \"system\" + 0.005 * \"money\" + 0.004 * \"control\" + 0.004 * \"special\"\n",
    "\n",
    "42 0.014 * \"space\" + 0.008 * \"wave\" + 0.007 * \"same\" + 0.007 * \"time\" + 0.006 * \"expression\" + 0.006 * \"star\" + 0.006 * \"area\" + 0.005 * \"basic\" + 0.005 * \"magnetic\"\n",
    "\n",
    "43 0.014 * \"initial\" + 0.011 * \"large\" + 0.009 * \"in\" + 0.008 * \"French\" + 0.008 * \"new\" + 0.006 * \"year\" + 0.006 * \"world\" + 0.005 * \"of\" + 0.005 * \"British\" + 0.005 * \"important\"\n",
    "\n",
    "* 0.022 * \"education\" + 0.023 * \"university\" + 0.013 * \"international\" + 0.012 * \"turkish\" + 0.010 * \"university\" + 0.010 * \"high\" + 0.009 * \"istanbul\" + 0.008 * \"teaching\" + 0.008 * \"culture\" + 0.007 * \"turkey\"\n",
    "\n",
    "45 0.021 * \"china\" + 0.012 * \"blood\" + 0.007 * \"medical\" + 0.007 * \"nerve\" + 0.006 * \"China's\" + 0.006 * \"thick\" + 0.005 * \"human\" + 0.005 * \"India\" + 0.005 * \"indian\" + 0.005 * \"nutrient\"\n",
    "\n",
    "46 0.052 * \"city\" + 0.045 * \"place\" + 0.042 * \"area\" + 0.040 * \"population\" + 0.036 * \"population\" + 0.033 * \"on\" + 0.029 * \". + 0.027 * \"detect\" + 0.025 * \"american,\" + 0.025 * \"is the city.\"\n",
    "\n",
    "+ 0.033 * \"Turkish\" + 0.027 * \"Pasha\" + 0.023 * \"Mustafa\" + 0.020 * \"Mehmet\" + 0.016 * \"Ahmet\" + 0.014 * \"Bey\" + 0.013 * \"Sultan\" + 0.013 * \"kemal\" + 0.012 * \"ibrahim\"\n",
    "\n",
    "48 0.009 * \"high\" + 0.008 * \"used\" + 0.007 * \"usually\" + 0.007 * \"having different\" + 0.006 * \"+ 0.006 *\" about \"+ 0.006 *\" small \"+ 0.006 *\" light \"+ 0.005 * \"Located\" + 0.005 * \"Same\"\n",
    "\n",
    "+ 0.013 * \"person\" + 0.011 * \"2006\" + 0.010 * \"official\" + 0.010 * \"language\" + 0.009 * \"management\" + 0.008 * \"Iran's\" + 0.008 * \"bulgarian\" + 0.008 * \"center\" + 0.008 * \"mail\"\n",
    "\n",
    "50 0.008 * \"against\" + 0.005 * \"new\" + 0.005 * \"state\" + 0.005 * \"union\" + 0.005 * \"political\" + 0.005 * \"soviet\" + 0.004 * \"has.\" + 0.004 * \"accepted\" + 0.004 * \"then\" + 0.004 * \"Soviet\""
   ]
  },
  {
   "cell_type": "markdown",
   "metadata": {},
   "source": [
    "## Based on Categories"
   ]
  },
  {
   "cell_type": "code",
   "execution_count": null,
   "metadata": {
    "collapsed": true
   },
   "outputs": [],
   "source": [
    "import re\n",
    "import json\n",
    "import requests\n",
    "\n",
    "# get edits before and after block per article\n",
    "edits_articles_before = {}\n",
    "with open('edits-per-article-before.json') as infile:\n",
    "    edits_articles_before = json.load(infile)\n",
    "edits_articles_after = {}\n",
    "with open('edits-per-article-after.json') as infile:\n",
    "    edits_articles_after = json.load(infile)\n",
    "    \n",
    "# get edits before and after block per article\n",
    "edits_articles_before = {}\n",
    "with open('edits-per-article-before.json') as infile:\n",
    "    edits_articles_before = json.load(infile)\n",
    "edits_articles_after = {}\n",
    "with open('edits-per-article-after.json') as infile:\n",
    "    edits_articles_after = json.load(infile)\n",
    "    \n",
    "# get all article titles we have data on\n",
    "article_titles = set(edits_articles_after.keys() + edits_articles_before.keys())\n",
    "\n",
    "# API request\n",
    "\n",
    "category_before = {}\n",
    "category_after = {}\n",
    "\n",
    "counter = 0\n",
    "\n",
    "for title in article_titles:\n",
    "    re = requests.get('https://en.wikipedia.org/w/api.php?format=xml&action=query&prop=categories&format=json&titles=' + title)\n",
    "    data = json.loads(re.text)\n",
    "\n",
    "    id = data['query']['pages'].keys()[0]\n",
    "    if not 'categories' in data['query']['pages'][id]:\n",
    "        continue\n",
    "    else:\n",
    "        counter += 1\n",
    "        print counter\n",
    "    categories = data['query']['pages'][id]['categories']\n",
    "    for c in categories:\n",
    "        if title in edits_articles_before:\n",
    "            if c['title'] not in category_before:\n",
    "                category_before[c['title']] = int(edits_articles_before[title])\n",
    "            else:\n",
    "                category_before[c['title']] += int(edits_articles_before[title])\n",
    "        if title in edits_articles_after:\n",
    "            if c['title'] not in category_after:\n",
    "                category_after[c['title']] = int(edits_articles_after[title])\n",
    "            else:\n",
    "                category_after[c['title']] += int(edits_articles_after[title])"
   ]
  }
 ],
 "metadata": {
  "kernelspec": {
   "display_name": "Python 2",
   "language": "python",
   "name": "python2"
  },
  "language_info": {
   "codemirror_mode": {
    "name": "ipython",
    "version": 2
   },
   "file_extension": ".py",
   "mimetype": "text/x-python",
   "name": "python",
   "nbconvert_exporter": "python",
   "pygments_lexer": "ipython2",
   "version": "2.7.13"
  }
 },
 "nbformat": 4,
 "nbformat_minor": 2
}
